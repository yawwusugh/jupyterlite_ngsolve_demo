{
  "metadata": {
    "kernelspec": {
      "name": "python",
      "display_name": "Python (Pyodide)",
      "language": "python"
    },
    "language_info": {
      "codemirror_mode": {
        "name": "python",
        "version": 3
      },
      "file_extension": ".py",
      "mimetype": "text/x-python",
      "name": "python",
      "nbconvert_exporter": "python",
      "pygments_lexer": "ipython3",
      "version": "3.8"
    },
    "celltoolbar": "Slideshow",
    "interpreter": {
      "hash": "767d51c1340bd893661ea55ea3124f6de3c7a262a8b4abca0554b478b1e2ff90"
    },
    "varInspector": {
      "cols": {
        "lenName": 16,
        "lenType": 16,
        "lenVar": 40
      },
      "kernels_config": {
        "python": {
          "delete_cmd_postfix": "",
          "delete_cmd_prefix": "del ",
          "library": "var_list.py",
          "varRefreshCmd": "print(var_dic_list())"
        },
        "r": {
          "delete_cmd_postfix": ") ",
          "delete_cmd_prefix": "rm(",
          "library": "var_list.r",
          "varRefreshCmd": "cat(var_dic_list()) "
        }
      },
      "types_to_exclude": [
        "module",
        "function",
        "builtin_function_or_method",
        "instance",
        "_Feature"
      ],
      "window_display": false
    }
  },
  "nbformat_minor": 4,
  "nbformat": 4,
  "cells": [
    {
      "cell_type": "markdown",
      "source": "Are Nedelec elements really necessary to solve Maxwell equations? Imagine a world without the Nedelec element, however terrible that might be: a world where people were forced to solve Maxwell equations using the Lagrange element. How would one go about using Lagrange elements? Does one get a reasonable method? We shall answer all these questions in this notebook. ",
      "metadata": {}
    },
    {
      "cell_type": "markdown",
      "source": "# Geometry\nThe problems we intend to exemplify are only visible in a non-convex domain, so we construct an L-shaped domain.",
      "metadata": {}
    },
    {
      "cell_type": "code",
      "source": "from ngsolve import *\nfrom netgen.geom2d import SplineGeometry\nfrom ngsolve.webgui import Draw\nimport numpy as np",
      "metadata": {
        "trusted": true
      },
      "outputs": [],
      "execution_count": null
    },
    {
      "cell_type": "code",
      "source": "import piplite\nawait piplite.install(\"prettytable\")\nfrom prettytable import PrettyTable",
      "metadata": {
        "trusted": true
      },
      "outputs": [],
      "execution_count": null
    },
    {
      "cell_type": "code",
      "source": "#\n#  (-1,1)        G6              (1,1)\n#       +----------------------+  \n#       |                      |\n#       |                      | G4\n#       |        (0,0)         |\n#    G3 |           +----------+ (1,0)\n#       |           |     G2\n#       |           |G1\n#       |    G5     |\n#       +-----------+\n#  (-1,-1)       (0,-1)\n#\n\ngeo = SplineGeometry()\nptlist = [(0,0), (1,0), (1,1), (-1,1), (-1,-1), (0,-1)]\npts = [geo.AppendPoint(*p) for p in ptlist]\ngeo.Append(['line', pts[0], pts[1]], bc='midhoriz', leftdomain=1, rightdomain=0)\ngeo.Append(['line', pts[1], pts[2]], bc='rghtvert', leftdomain=1, rightdomain=0)\ngeo.Append(['line', pts[2], pts[3]], bc='tophoriz', leftdomain=1, rightdomain=0)\ngeo.Append(['line', pts[3], pts[4]], bc='leftvert', leftdomain=1, rightdomain=0)\ngeo.Append(['line', pts[4], pts[5]], bc='bothoriz', leftdomain=1, rightdomain=0)\ngeo.Append(['line', pts[5], pts[0]], bc='midvert', leftdomain=1, rightdomain=0)",
      "metadata": {
        "trusted": true
      },
      "outputs": [],
      "execution_count": null
    },
    {
      "cell_type": "markdown",
      "source": "### Boundary value problem\nLet $\\Omega $ be the L-shaped domain we constructed above. The problem is to find  $E$\n  satisfying\n  \\begin{align}\n\\nabla \\times \\nabla \\times E &= 0 \\quad \\text{ in } \\Omega \\\\\n\\nabla \\cdot  E &= 0 \\quad \\text{ in } \\Omega \\\\\nE⋅t & =g \\quad \\text{ on } \\partial\\Omega \\\\\n\\end{align}\n \nThe data $g$ is assumed to have an extension  $E_g \\in H(\\text{curl})\\cap H(\\text{div})$ such that  $E_g\\times n = g$ on $\\partial \\Omega $ , so that problem of finding  $E$ reduces to the problem of finding  $E_0 = E−E_g $ with homogeneous essential boundary conditions.",
      "metadata": {}
    },
    {
      "cell_type": "markdown",
      "source": "### Make do with Lagrange elements\nOne might be tempted to argue that controlling curl and  div essentially controls all first order derivatives, so the Maxwell solution might satisfy an  H1-formulation. Indeed, writing  $E=E_0+E_g$, the we immediately see that the unknown function  $E_0$ belongs to the space $X = H_0(\\text{curl})\\cap H(\\text{div})$\n\n \nThis results in the following weak formulation: Find  $E=E_0+E_g$ such that  $E_0 \\in X$ satisfies\n$$(\\nabla \\times E, \\nabla \\times v)+(\\nabla \\cdot E,\\nabla \\cdot v)=0, \\text{ for all } v \\in X $$\nA piecewise polynomial function is in $H(\\text{curl})$ if its tangential component is continuous. It is in  $H(\\text{div})$ if its normal component is continuous across element interfaces. Hence, it is in  $X$ if all its components are continuous across element interfaces. Thus, the Lagrange finite element space is a conforming finite element subspace of  $X$. This formulation therefore appears to offer an avenue to compute the Maxwell solution using the commonly available Lagrange finite elements.",
      "metadata": {}
    },
    {
      "cell_type": "markdown",
      "source": "### The standard conforming method\nOne can also, as we have already seen previously, construct a weak formulation treating the divergence equation weakly: Find  $E \\in  H(curl),  E = E_0+E_g $,\nwhere  $E_0 \\in H_0(\\text{curl})$ satisfies, together with  $\\phi \\in H^1_0$,\n\n\\begin{align}\n(\\nabla \\times  E, \\nabla \\times v)+(\\nabla  \\phi,v) &= 0 \\text{ for all } v \\in H_0(\\text{curl})\\\\\n(\\nabla  \\psi, E) &= 0  \\text{ for all } \\psi \\in H^1_0.\n\\end{align}\n\nFor this formulation, we use the Nedelec space for approximating  $E$ and the Lagrange finite element space for approximating $\\phi$.\n\nWe shall see below that widely different approximations are obtained using the above two approaches.",
      "metadata": {}
    },
    {
      "cell_type": "markdown",
      "source": "### Choosing an exact solution¶\nTo see the above-mentioned effects, we must choose an exact solution of low regularity. The exact solution we shall use, in polar coordinates, is $E=\\text{grad}(r^{2/3}\\sin(2θ/3))$.\n \nNote the following regarding  E:\n\n- $E$ satisfies the above boundary value problem with a  $g$ that is nonzero only on the edges of  $\\Omega$ that do not meet the origin.\n\n- Although  $E$ has a singularity, the data  $g$ is smooth along  $\\partial \\Omega$, hence it offers a case where no special integration is required to assemble the corect right hand side.\n\n- The components of $E$ are not in  $H_1(\\Omega)$.\n\nWe need to implement this function for error computation. For this, we need  $\\theta$, which can be obtained using arcsin, arccos or arctan. But please do be careful: for example, see the result of setting $\\theta = \\text{acos}(x/r)$:\n",
      "metadata": {}
    },
    {
      "cell_type": "code",
      "source": "r = sqrt(x*x + y*y)\ntheta = acos(x/r)\n\nmesh = Mesh(geo.GenerateMesh(maxh=1/8))\nDraw(theta, mesh, 'theta')",
      "metadata": {
        "trusted": true
      },
      "outputs": [],
      "execution_count": null
    },
    {
      "cell_type": "markdown",
      "source": "The values are incorrect\n\n- in the third quadrant,\n- and near the origin due to division by (close to) zero.\n\nThese problems can be solved as follows:",
      "metadata": {}
    },
    {
      "cell_type": "code",
      "source": "r = sqrt(x*x + y*y)\nrinv = 1.0/IfPos(r-1e-15, r, 1.e-15) # threshold to avoid 0-division\ntheta = IfPos(y+1e-15, acos(x * rinv), pi - asin(y*rinv))\nDraw(theta, mesh, 'theta')",
      "metadata": {
        "trusted": true
      },
      "outputs": [],
      "execution_count": null
    },
    {
      "cell_type": "markdown",
      "source": "Alternately, one may use arctangent with two arguments (y and x, avoiding division by zero).",
      "metadata": {}
    },
    {
      "cell_type": "code",
      "source": "theta = atan2(y, x)\nDraw(theta, mesh, 'theta')",
      "metadata": {
        "trusted": true
      },
      "outputs": [],
      "execution_count": null
    },
    {
      "cell_type": "markdown",
      "source": "But again here, we must be careful, as it produces a branch cut through our  $\\Omega$. We rotate the coordinate system, take arctan, and rotate back to put the branch cut outside our domain.",
      "metadata": {}
    },
    {
      "cell_type": "code",
      "source": "alpha = -(pi/2 + pi/4)\nrotatedx = sin(alpha) * x - cos(alpha) * y\nrotatedy = sin(alpha) * x + cos(alpha) * y\ntheta = atan2(rotatedy, rotatedx) - alpha   \nDraw(theta, mesh, 'theta')",
      "metadata": {
        "trusted": true
      },
      "outputs": [],
      "execution_count": null
    },
    {
      "cell_type": "markdown",
      "source": "Using either of these \"fixed up\"  $\\theta$, we proceed to define the exact solution:",
      "metadata": {}
    },
    {
      "cell_type": "code",
      "source": "Eexact = ((2/3)*(cos(theta)*sin(2*theta/3) -\n                 sin(theta)*cos(2*theta/3))*pow(rinv,1/3), \n           (2/3)*(cos(theta)*cos(2*theta/3) +\n                  sin(theta)*sin(2*theta/3))*pow(rinv,1/3))\nEexact = CoefficientFunction(Eexact)\nDraw(Eexact, mesh, 'Eexact')",
      "metadata": {
        "trusted": true
      },
      "outputs": [],
      "execution_count": null
    },
    {
      "cell_type": "markdown",
      "source": "## The Nedelec approximation",
      "metadata": {}
    },
    {
      "cell_type": "code",
      "source": "def SolveByNedelec(mesh, bc_E, bc_phi, p=1):\n\n    \"\"\" Given boundary data for E.t in bc_E and for phi in bc_phi, solve\n    by the above-mentioned Nedelec approach. \n    \"\"\"\n\n    V = HCurl(mesh, type1=True, order=p, dirichlet='[a-z]*')\n    L = H1(mesh, order=p, dirichlet='[a-z]*')\n    X = FESpace([V, L])\n\n    u, phi = X.TrialFunction()\n    v, psi = X.TestFunction()\n\n    a = BilinearForm(X, symmetric=True)\n    a += (curl(u)*curl(v) + grad(phi)*v  + u*grad(psi)) * dx\n    f = LinearForm(X)    \n\n    Ephi = GridFunction(X, 'E_Nedelec')\n\n    with TaskManager():\n\n        Ephi.components[0].Set(bc_E, BND)\n        Ephi.components[1].Set(bc_phi, BND)\n\n        a.Assemble()\n        f.Assemble()\n    \n        r = f.vec.CreateVector()\n        r.data = f.vec - a.mat * Ephi.vec\n        Ephi.vec.data += a.mat.Inverse(X.FreeDofs()) * r\n\n    return Ephi, X",
      "metadata": {
        "trusted": true
      },
      "outputs": [],
      "execution_count": null
    },
    {
      "cell_type": "markdown",
      "source": "We apply the above routine by giving the boundary condition argument as the exact solution. While Eexact is the exact E-component of the solution, the exact phi is  0",
      "metadata": {}
    },
    {
      "cell_type": "code",
      "source": "Ephi, X = SolveByNedelec(mesh, Eexact, CoefficientFunction(0), p=4)\nDraw(Ephi.components[0], mesh, 'ENedelec')",
      "metadata": {
        "trusted": true
      },
      "outputs": [],
      "execution_count": null
    },
    {
      "cell_type": "markdown",
      "source": "${\\color{red}\\text{ Problem here. Fix}}$",
      "metadata": {}
    },
    {
      "cell_type": "markdown",
      "source": "The solution picture should look very similar to what was described in \"The Good\" punchline above.\n",
      "metadata": {}
    },
    {
      "cell_type": "markdown",
      "source": "## The Lagrange approximation",
      "metadata": {}
    },
    {
      "cell_type": "code",
      "source": "def SolveByLagrange(mesh, bc_E, p=1):\n\n    \"\"\" Solve using the above-mentioned approach using Lagrange\n    elements (only) for each component of the electric field,\n    given E.t boundary data in bc_E. \"\"\"\n\n    # Make Lagrange spaces so that their product has the\n    # required tangential boundary conditions:\n    Vx = H1(mesh, order=p, dirichlet='midhoriz|tophoriz|bothoriz')\n    Vy = H1(mesh, order=p, dirichlet='rghtvert|leftvert|midvert')\n    X = FESpace([Vx, Vy])\n\n    ux, uy = X.TrialFunction()\n    vx, vy = X.TestFunction()\n    u = CoefficientFunction((ux, uy))\n    v = CoefficientFunction((vx, vy))\n    \n    # Define the two differential operations required for the form:\n    def curl2D(w0, w1):\n        dw0 = grad(w0)\n        dw1 = grad(w1)\n        return dw1[0] - dw0[1]\n    \n    def div2D(w0, w1):\n        dw0 = grad(w0)\n        dw1 = grad(w1)\n        return dw1[1] + dw0[0]\n\n    # System: \n    a = BilinearForm(X, symmetric=True)\n    a += (curl2D(ux, uy) * curl2D(vx, vy) + \\\n          div2D(ux, uy)  * div2D(vx, vy)) * dx\n    f = LinearForm(X)    \n\n    # Solve:\n    u = GridFunction(X, 'E_Lagrange')\n    u.components[0].Set(bc_E[0], BND)\n    u.components[1].Set(bc_E[1], BND)\n\n    a.Assemble()\n    f.Assemble()\n    \n    r = f.vec.CreateVector()\n    r.data = f.vec - a.mat * u.vec\n    u.vec.data += a.mat.Inverse(X.FreeDofs()) * r\n    \n    return u, X",
      "metadata": {
        "trusted": true
      },
      "outputs": [],
      "execution_count": null
    },
    {
      "cell_type": "code",
      "source": "mesh = Mesh(geo.GenerateMesh(maxh=1/8))\nE, X = SolveByLagrange(mesh, Eexact, p=4)\nDraw(E.components[0], mesh, 'ELagrange')",
      "metadata": {
        "trusted": true
      },
      "outputs": [],
      "execution_count": null
    },
    {
      "cell_type": "markdown",
      "source": "This is clearly the solution shown in \"The Bad\" punchline above. Its values near the non-convex corner shows smooth variations, indicating that it has completely missed the singularity!\n",
      "metadata": {}
    },
    {
      "cell_type": "markdown",
      "source": "# Convergence study",
      "metadata": {}
    },
    {
      "cell_type": "markdown",
      "source": "You might wonder if this situation gets remedied on finer meshes. To study this, we perform a convergence study: Start with a (coarse) mesh, and solve the same Maxwell problem on successively refined meshes. Each refinement below is obtained by connecting the midpoints of edges of each triangle in the current mesh.",
      "metadata": {}
    },
    {
      "cell_type": "markdown",
      "source": "### Rates for Lagrange approximation",
      "metadata": {}
    },
    {
      "cell_type": "code",
      "source": "def SolveByLagrangeSuccessive(hcoarse=1/4, p=1, nrefinements=5):\n    \"\"\"\n    Starting with a mesh of grid size \"hcoarse\", solve using the \n    Lagrange method on successively refined meshes. Store all solutions,\n    spaces and meshes and return them in lists.\n    \"\"\"\n\n    Es = []\n    Xs = []\n    meshes = []\n    mesh = Mesh(geo.GenerateMesh(maxh=hcoarse))\n\n    for ref in range(nrefinements):\n    \n        meshes.append(Mesh(mesh.ngmesh.Copy()))\n\n        u, X = SolveByLagrange(mesh, Eexact, p=p)\n        Es.append(u)\n        Xs.append(X)\n    \n        mesh = meshes[-1]    \n        mesh.ngmesh.Refine()\n\n    return Es, Xs, meshes",
      "metadata": {
        "trusted": true
      },
      "outputs": [],
      "execution_count": null
    },
    {
      "cell_type": "markdown",
      "source": "Given solutions  Ei on a sequence of meshes of grid size  $h_i=\\frac{h_0}{2^i}$ , we can estimate the rate of convergence by examining at what rate\n$‖E_i−E_{finest}‖_{L_2(\\Omega)}\\rightarrow0$.\n\nHere  $E_{finest}$ is the numerical solution computed on the finest mesh (max  i). This is usually how we compute the NOC (Numerical Order of Convergence) of a method when we have no access to the exact solution.\n\nIn this problem however, we know the exact solution, so we are in a position to cross check the NOC with how the exact error $‖E_i−E_{exact}‖_{L_2(\\Omega)}\\rightarrow0$ ",
      "metadata": {}
    },
    {
      "cell_type": "code",
      "source": "def convergence_study(Es, Xs, meshes):\n    \"\"\"Given solutions on successively refined meshes, return \n    || E_i - E_fine|| and ||E_i - E_exact|| for i-th mesh, for all i.\n    \"\"\"\n    \n    E_diff = []\n    E_err = []\n    fine_E = GridFunction(Xs[-1])\n    \n    with TaskManager():\n        fine_E.components[0].Set(Es[-1].components[0])\n        fine_E.components[1].Set(Es[-1].components[1])\n\n        for i in range(len(meshes)-1):\n\n            diffE0 = fine_E.components[0] - Es[i].components[0]\n            diffE1 = fine_E.components[1] - Es[i].components[1]\n            dE = CoefficientFunction((diffE0, diffE1))\n            E_diff.append(np.sqrt(Integrate(dE*dE, meshes[i])))\n\n            dE = CoefficientFunction((Eexact[0] - Es[i].components[0],\n                                      Eexact[1] - Es[i].components[1]))\n            E_err.append(np.sqrt(Integrate(dE*dE, meshes[i])))\n\n    return np.array(E_diff), np.array(E_err)",
      "metadata": {
        "trusted": true
      },
      "outputs": [],
      "execution_count": null
    },
    {
      "cell_type": "code",
      "source": "Es, Xs, meshes = SolveByLagrangeSuccessive(hcoarse=1/4, p=1, nrefinements=6)\nE_diff, E_err = convergence_study(Es, Xs, meshes)\nE_diff",
      "metadata": {
        "trusted": true
      },
      "outputs": [],
      "execution_count": null
    },
    {
      "cell_type": "markdown",
      "source": "These numbers certainly look like they are converging. Let's take a look at the rate of convergence:",
      "metadata": {}
    },
    {
      "cell_type": "code",
      "source": "# helper function to tabulate data\ndef tabrate(name, dat):\n    col = ['h', name, 'rate']\n    t = PrettyTable()\n    t.add_column(col[0], ['1/'+str(2**(2+i)) for i in range(len(dat))])\n    t.add_column(col[1], ['%.7f'%e for e in dat])\n    t.add_column(col[2], ['*'] + \\\n                 ['%1.2f'%r for r in np.log(dat[:-1]/dat[1:])/np.log(2)])\n    print(t)",
      "metadata": {
        "trusted": true
      },
      "outputs": [],
      "execution_count": null
    },
    {
      "cell_type": "code",
      "source": "tabrate('||Eh-Efinest||', E_diff)",
      "metadata": {
        "trusted": true
      },
      "outputs": [],
      "execution_count": null
    },
    {
      "cell_type": "markdown",
      "source": "This seems to indicate that the method converges.\n\nThe problem is only revealed when we see the exact errors:",
      "metadata": {}
    },
    {
      "cell_type": "code",
      "source": "E_err",
      "metadata": {
        "trusted": true
      },
      "outputs": [],
      "execution_count": null
    },
    {
      "cell_type": "code",
      "source": "tabrate('||Eh-Eexact||', E_err)",
      "metadata": {
        "trusted": true
      },
      "outputs": [],
      "execution_count": null
    },
    {
      "cell_type": "markdown",
      "source": "These errors do not go to zero, thus showing that the method converges, but to something distant from the exact solution!",
      "metadata": {}
    },
    {
      "cell_type": "markdown",
      "source": "## Rates for Nedelec approximation\n\nWe now repeat the same study as above, but now using the \"The Good\" method with Nedelec elements.\n",
      "metadata": {}
    },
    {
      "cell_type": "code",
      "source": "def SolveByNedelecSuccessive(hcoarse=1/4, p=1, nrefinements=6):\n\n    Ephis = []\n    Xs = []\n    meshes = []\n    mesh = Mesh(geo.GenerateMesh(maxh=hcoarse))\n\n    for ref in range(nrefinements):\n    \n        meshes.append(Mesh(mesh.ngmesh.Copy()))\n\n        Ephi, X = SolveByNedelec(mesh, Eexact, CoefficientFunction(0), p=p)\n        Ephis.append(Ephi)\n        Xs.append(X)\n    \n        mesh = meshes[-1]    \n        mesh.ngmesh.Refine()\n\n    return Ephis, Xs, meshes",
      "metadata": {
        "trusted": true
      },
      "outputs": [],
      "execution_count": null
    },
    {
      "cell_type": "code",
      "source": "def convergence_study2(Ephis, Xs, meshes):\n    E_diff = []\n    E_err = []\n    fine_Ephi = GridFunction(Xs[-1])\n    Efine = fine_Ephi.components[0]\n    \n    with TaskManager():\n        \n        Efine.Set(Ephis[-1].components[0])\n\n        for i in range(len(meshes)-1):\n            dE = Efine - Ephis[i].components[0]\n            E_diff.append(sqrt(Integrate(dE*dE, meshes[i])))\n\n            dE = Eexact - Ephis[i].components[0]\n            E_err.append(sqrt(Integrate(dE*dE, meshes[i])))\n\n    return np.array(E_diff), np.array(E_err)",
      "metadata": {
        "trusted": true
      },
      "outputs": [],
      "execution_count": null
    },
    {
      "cell_type": "code",
      "source": "Ephis, Xs, meshes = SolveByNedelecSuccessive(hcoarse=1/4, p=1, nrefinements=6)\nEdiff, Eerr = convergence_study2(Ephis, Xs, meshes)\ntabrate('||Eh-Efinest||', Ediff)\ntabrate('||Eh-Eexact||', Eerr)",
      "metadata": {
        "trusted": true
      },
      "outputs": [],
      "execution_count": null
    },
    {
      "cell_type": "markdown",
      "source": "Clearly the exact errors and the numerically estimated errors are converging to zero.",
      "metadata": {}
    },
    {
      "cell_type": "code",
      "source": "",
      "metadata": {
        "trusted": true
      },
      "outputs": [],
      "execution_count": null
    },
    {
      "cell_type": "markdown",
      "source": "## References\nJay Gopalakrishnan: [Maxwell Discretizations: The Good, The Bad & The Ugly](https://web.pdx.edu/~gjay/pub/MaxwellGoodBadUgly.html)\nMTH 653 Class Notes, Spring 2019 \n\nMartin Costabel: A Coercive Bilinear Form for Maxwell’s Equations\nFuchbereich Mathematik der Technischen Hochschule,\nSchlossgartenstr. 7, Darmstudt, German)\nSubmitted by Murray H. Protter\nReceived June 1, 1989 \n\n[NgSolve Documentation](https://docu.ngsolve.org/latest/)",
      "metadata": {}
    },
    {
      "cell_type": "code",
      "source": "",
      "metadata": {
        "trusted": true
      },
      "outputs": [],
      "execution_count": null
    }
  ]
}